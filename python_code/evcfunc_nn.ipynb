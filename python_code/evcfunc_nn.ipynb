{
 "cells": [
  {
   "cell_type": "code",
   "execution_count": 2,
   "metadata": {
    "collapsed": true
   },
   "outputs": [],
   "source": [
    "#imports\n",
    "import numpy as np\n",
    "from sklearn.neural_network import MLPClassifier\n",
    "from sklearn import model_selection, metrics\n",
    "from imblearn.over_sampling import SMOTE\n",
    "import csv"
   ]
  },
  {
   "cell_type": "code",
   "execution_count": 3,
   "metadata": {},
   "outputs": [],
   "source": [
    "# Util functions\n",
    "def classifierEstimation(classifier, x_test, y_test):\n",
    "    print\n",
    "    print('Test set has positive', len([i for i in y_test if i is 1]), 'and negative', len([i for i in y_test if i is 0]))\n",
    "    print\n",
    "    print ('Best classifier score')\n",
    "    print\n",
    "    print(metrics.classification_report(y_test, classifier.predict(x_test), target_names=['non-binding', 'binding']))"
   ]
  },
  {
   "cell_type": "code",
   "execution_count": 4,
   "metadata": {},
   "outputs": [],
   "source": [
    "#import data\n",
    "\n",
    "positives_dna = []\n",
    "negatives_dna = []\n",
    "positives_enzyme = []\n",
    "negatives_enzyme = []\n",
    "\n",
    "with open('data/minimal_model_pdidb_positives.txt') as p_dna:\n",
    "    for row in csv.reader(p_dna,delimiter=\"\\t\"):\n",
    "        positives_dna.append(row)\n",
    "\n",
    "with open('data/minimal_model_pdidb_negatives.txt') as n_dna:\n",
    "    for row in csv.reader(n_dna,delimiter=\"\\t\"):\n",
    "       negatives_dna.append(row)\n",
    "       \n",
    "with open('data/minimal_model_enzyme_positives.txt') as p_enzyme:\n",
    "    for row in csv.reader(p_enzyme,delimiter=\"\\t\"):\n",
    "        positives_enzyme.append(row)\n",
    "        \n",
    "with open('data/minimal_model_enzyme_negatives.txt') as n_enzyme:\n",
    "    for row in csv.reader(n_enzyme,delimiter=\"\\t\"):\n",
    "        negatives_enzyme.append(row)"
   ]
  },
  {
   "cell_type": "code",
   "execution_count": 5,
   "metadata": {},
   "outputs": [],
   "source": [
    "#preprocess data\n",
    "\n",
    "tmp_dna = positives_dna + negatives_dna\n",
    "tmp_enzyme = positives_enzyme + negatives_enzyme\n",
    "\n",
    "labels_dna = [1]*len(positives_dna)+[0]*len(negatives_dna)\n",
    "labels_enzyme = [1]*len(positives_enzyme)+[0]*len(negatives_enzyme)\n",
    "\n",
    "dna = []\n",
    "enzyme = []\n",
    "\n",
    "for j in tmp_dna:\n",
    "    new_j = [float(i) for i in j]\n",
    "    dna.append(new_j)\n",
    "    \n",
    "for j in tmp_enzyme:\n",
    "    new_j = [float(i) for i in j]\n",
    "    enzyme.append(new_j)"
   ]
  },
  {
   "cell_type": "code",
   "execution_count": 33,
   "metadata": {},
   "outputs": [],
   "source": [
    "#train and test datasets\n",
    "\n",
    "#dna_x_train,dna_x_test,dna_y_train,dna_y_test = model_selection.train_test_split(dna, labels_dna, test_size=0.2, random_state=6)\n",
    "enzyme_x_train,enzyme_x_test,enzyme_y_train,enzyme_y_test = model_selection.train_test_split(enzyme,labels_enzyme,test_size=0.2,random_state=6)\n",
    "\n",
    "#x_train = dna_x_train + enzyme_x_train\n",
    "#y_train = dna_y_train + enzyme_y_train\n",
    "#x_test = dna_x_test + enzyme_x_test\n",
    "#y_test = dna_y_test + enzyme_y_test\n",
    "\n",
    "sm = SMOTE(random_state=42)\n",
    "x_train, y_train = sm.fit_sample(enzyme_x_train,enzyme_y_train)\n",
    "\n",
    "kf = model_selection.StratifiedKFold(n_splits=5, shuffle=True, random_state=3)\n",
    "parameters = {'alpha': [0.0001], 'random_state': [1], 'max_iter': [50]}"
   ]
  },
  {
   "cell_type": "code",
   "execution_count": 34,
   "metadata": {},
   "outputs": [
    {
     "name": "stderr",
     "output_type": "stream",
     "text": [
      "D:\\Program Files\\Python\\Python3.6\\lib\\site-packages\\sklearn\\neural_network\\multilayer_perceptron.py:563: ConvergenceWarning: Stochastic Optimizer: Maximum iterations reached and the optimization hasn't converged yet.\n  % (), ConvergenceWarning)\n"
     ]
    },
    {
     "name": "stdout",
     "output_type": "stream",
     "text": [
      "{0: 9019, 1: 3931}\nTest set has positive 1335 and negative 11615\nBest classifier score\n             precision    recall  f1-score   support\n\nnon-binding       0.93      0.73      0.82     11615\n    binding       0.19      0.56      0.28      1335\n\navg / total       0.86      0.71      0.76     12950\n\nTraining set score: 0.654541\nTest set score: 0.708263\n3\n50\n"
     ]
    },
    {
     "name": "stderr",
     "output_type": "stream",
     "text": [
      "D:\\Program Files\\Python\\Python3.6\\lib\\site-packages\\sklearn\\neural_network\\multilayer_perceptron.py:563: ConvergenceWarning: Stochastic Optimizer: Maximum iterations reached and the optimization hasn't converged yet.\n  % (), ConvergenceWarning)\n"
     ]
    }
   ],
   "source": [
    "#neural network\n",
    "\n",
    "grid = model_selection.GridSearchCV(MLPClassifier(), parameters, cv=kf)\n",
    "grid.fit(x_train,y_train)\n",
    "classifier = grid.best_estimator_\n",
    "prediction = classifier.predict(enzyme_x_test)\n",
    "\n",
    "unique, counts = np.unique(prediction, return_counts=True)\n",
    "print(dict(zip(unique, counts)))\n",
    "\n",
    "#print('Prediction has positive', len([i for i in prediction if i is 1]), 'and negative', len([i for i in prediction if i is 0]))\n",
    "\n",
    "classifierEstimation(classifier,enzyme_x_test,enzyme_y_test)\n",
    "\n",
    "print(\"Training set score: %f\" % classifier.score(x_train, y_train))\n",
    "print(\"Test set score: %f\" % classifier.score(enzyme_x_test, enzyme_y_test))\n",
    "print(classifier.n_layers_)\n",
    "print(classifier.n_iter_)"
   ]
  },
  {
   "cell_type": "code",
   "execution_count": null,
   "metadata": {},
   "outputs": [],
   "source": [
    ""
   ]
  }
 ],
 "metadata": {
  "kernelspec": {
   "display_name": "Python 2",
   "language": "python",
   "name": "python2"
  },
  "language_info": {
   "codemirror_mode": {
    "name": "ipython",
    "version": 2.0
   },
   "file_extension": ".py",
   "mimetype": "text/x-python",
   "name": "python",
   "nbconvert_exporter": "python",
   "pygments_lexer": "ipython2",
   "version": "2.7.6"
  }
 },
 "nbformat": 4,
 "nbformat_minor": 0
}