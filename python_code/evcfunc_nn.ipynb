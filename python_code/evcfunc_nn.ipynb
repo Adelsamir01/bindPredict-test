{
 "cells": [
  {
   "cell_type": "code",
   "execution_count": 1,
   "metadata": {
    "collapsed": true
   },
   "outputs": [],
   "source": [
    "#imports\n",
    "import numpy as np\n",
    "from sklearn.neural_network import MLPClassifier\n",
    "from sklearn import model_selection, metrics\n",
    "from imblearn.over_sampling import SMOTE\n",
    "import csv"
   ]
  },
  {
   "cell_type": "code",
   "execution_count": 2,
   "metadata": {},
   "outputs": [],
   "source": [
    "# Util functions\n",
    "def classifierEstimation(classifier, x_test, y_test):\n",
    "    print\n",
    "    print('Test set has ', len([i for i in y_test if i is 1]), 'positives and ', len([i for i in y_test if i is 0]), ' negatives')\n",
    "    print\n",
    "    print ('Best classifier score')\n",
    "    print\n",
    "    print(metrics.classification_report(y_test, classifier.predict(x_test), target_names=['non-binding', 'binding']))"
   ]
  },
  {
   "cell_type": "code",
   "execution_count": 47,
   "metadata": {},
   "outputs": [],
   "source": [
    "#import data\n",
    "\n",
    "positives_dna = []\n",
    "negatives_dna = []\n",
    "positives_enzyme = []\n",
    "negatives_enzyme = []\n",
    "\n",
    "with open('data/more_minimal_model_pdidb_positives.txt') as p_dna:\n",
    "    for row in csv.reader(p_dna,delimiter=\"\\t\"):\n",
    "        positives_dna.append(row)\n",
    "\n",
    "with open('data/more_minimal_model_pdidb_negatives.txt') as n_dna:\n",
    "    for row in csv.reader(n_dna,delimiter=\"\\t\"):\n",
    "        negatives_dna.append(row)\n",
    "       \n",
    "with open('data/more_minimal_model_enzyme_positives.txt') as p_enzyme:\n",
    "    for row in csv.reader(p_enzyme,delimiter=\"\\t\"):\n",
    "        positives_enzyme.append(row)\n",
    "        \n",
    "with open('data/more_minimal_model_enzyme_negatives.txt') as n_enzyme:\n",
    "    for row in csv.reader(n_enzyme,delimiter=\"\\t\"):\n",
    "        negatives_enzyme.append(row)"
   ]
  },
  {
   "cell_type": "code",
   "execution_count": 45,
   "metadata": {},
   "outputs": [],
   "source": [
    "#import random data\n",
    "\n",
    "positives_dna_rnd = []\n",
    "negatives_dna_rnd = []\n",
    "positives_enzyme_rnd = []\n",
    "negatives_enzyme_rnd = []\n",
    "\n",
    "with open('data/rnd_more_minimal_model_pdidb_positives.txt') as p_dna:\n",
    "    for row in csv.reader(p_dna,delimiter=\"\\t\"):\n",
    "        positives_dna_rnd.append(row)\n",
    "\n",
    "with open('data/rnd_more_minimal_model_pdidb_negatives.txt') as n_dna:\n",
    "    for row in csv.reader(n_dna,delimiter=\"\\t\"):\n",
    "        negatives_dna_rnd.append(row)\n",
    "       \n",
    "with open('data/rnd_more_minimal_model_enzyme_positives.txt') as p_enzyme:\n",
    "    for row in csv.reader(p_enzyme,delimiter=\"\\t\"):\n",
    "        positives_enzyme_rnd.append(row)\n",
    "        \n",
    "with open('data/rnd_more_minimal_model_enzyme_negatives.txt') as n_enzyme:\n",
    "    for row in csv.reader(n_enzyme,delimiter=\"\\t\"):\n",
    "        negatives_enzyme_rnd.append(row)\n",
    "        \n",
    "tmp_dna_rnd = positives_dna_rnd + negatives_dna_rnd\n",
    "tmp_enzyme_rnd = positives_enzyme_rnd + negatives_enzyme_rnd\n",
    "\n",
    "labels_dna_rnd = [1]*len(positives_dna_rnd)+[0]*len(negatives_dna_rnd)\n",
    "labels_enzyme_rnd = [1]*len(positives_enzyme_rnd)+[0]*len(negatives_enzyme_rnd)\n",
    "\n",
    "dna_rnd = []\n",
    "enzyme_rnd = []\n",
    "\n",
    "for j in tmp_dna_rnd:\n",
    "    new_j = [float(i) for i in j]\n",
    "    dna_rnd.append(new_j)\n",
    "\n",
    "for j in tmp_enzyme_rnd:\n",
    "    new_j = [float(i) for i in j]\n",
    "    enzyme_rnd.append(new_j)\n",
    "\n",
    "data_rnd = dna_rnd + enzyme_rnd\n",
    "labels_rnd = labels_dna_rnd + labels_enzyme_rnd\n",
    "\n",
    "dna_x_train_rnd,dna_x_test_rnd,dna_y_train_rnd,dna_y_test_rnd = model_selection.train_test_split(dna_rnd,labels_dna_rnd,test_size=0.2,random_state=6)\n",
    "enzyme_x_train_rnd,enzyme_x_test_rnd,enzyme_y_train_rnd,enzyme_y_test_rnd = model_selection.train_test_split(enzyme_rnd,labels_enzyme_rnd,test_size=0.2,random_state=6)\n",
    "\n",
    "x_test_rnd = dna_x_test_rnd + enzyme_x_test_rnd\n",
    "y_test_rnd = dna_y_test_rnd + enzyme_y_test_rnd"
   ]
  },
  {
   "cell_type": "code",
   "execution_count": 48,
   "metadata": {},
   "outputs": [],
   "source": [
    "#preprocess data\n",
    "\n",
    "tmp_dna = positives_dna + negatives_dna\n",
    "tmp_enzyme = positives_enzyme + negatives_enzyme\n",
    "\n",
    "labels_dna = [1]*len(positives_dna)+[0]*len(negatives_dna)\n",
    "labels_enzyme = [1]*len(positives_enzyme)+[0]*len(negatives_enzyme)\n",
    "\n",
    "dna = []\n",
    "enzyme = []\n",
    "\n",
    "for j in tmp_dna:\n",
    "    new_j = [float(i) for i in j]\n",
    "    dna.append(new_j)\n",
    "    \n",
    "for j in tmp_enzyme:\n",
    "    new_j = [float(i) for i in j]\n",
    "    enzyme.append(new_j)"
   ]
  },
  {
   "cell_type": "code",
   "execution_count": 49,
   "metadata": {},
   "outputs": [],
   "source": [
    "#train and test datasets\n",
    "\n",
    "dna_x_train,dna_x_test,dna_y_train,dna_y_test = model_selection.train_test_split(dna, labels_dna, test_size=0.2, random_state=6)\n",
    "enzyme_x_train,enzyme_x_test,enzyme_y_train,enzyme_y_test = model_selection.train_test_split(enzyme,labels_enzyme,test_size=0.2,random_state=6)\n",
    "\n",
    "x_train = dna_x_train + enzyme_x_train\n",
    "y_train = dna_y_train + enzyme_y_train\n",
    "x_test = dna_x_test + enzyme_x_test\n",
    "y_test = dna_y_test + enzyme_y_test\n",
    "\n",
    "sm = SMOTE(random_state=42)\n",
    "x_train, y_train = sm.fit_sample(x_train,y_train)\n",
    "\n",
    "print(x_train)\n",
    "print(x_test)\n",
    "\n",
    "kf = model_selection.StratifiedKFold(n_splits=5, shuffle=True, random_state=3)\n",
    "parameters = {'alpha': [0.0001], 'random_state': [1]}"
   ]
  },
  {
   "cell_type": "code",
   "execution_count": 50,
   "metadata": {},
   "outputs": [],
   "source": [
    "#training the neural network\n",
    "\n",
    "grid = model_selection.GridSearchCV(MLPClassifier(), parameters, cv=kf)\n",
    "grid.fit(x_train,y_train)\n",
    "classifier = grid.best_estimator_"
   ]
  },
  {
   "cell_type": "code",
   "execution_count": 51,
   "metadata": {},
   "outputs": [
    {
     "name": "stdout",
     "output_type": "stream",
     "text": [
      "{0: 11852, 1: 3781}\nTest set has  1335 positives and  11615  negatives\nBest classifier score\n             precision    recall  f1-score   support\n\nnon-binding       0.91      0.77      0.84     11615\n    binding       0.15      0.36      0.22      1335\n\navg / total       0.83      0.73      0.77     12950\n\nTest set has  363 positives and  2320  negatives\nBest classifier score\n             precision    recall  f1-score   support\n\nnon-binding       0.89      0.77      0.82      2320\n    binding       0.21      0.40      0.28       363\n\navg / total       0.80      0.72      0.75      2683\n\nTest set has  1698 positives and  13935  negatives\nBest classifier score\n             precision    recall  f1-score   support\n\nnon-binding       0.91      0.77      0.84     13935\n    binding       0.16      0.37      0.23      1698\n\navg / total       0.83      0.73      0.77     15633\n\n"
     ]
    },
    {
     "name": "stdout",
     "output_type": "stream",
     "text": [
      "Training set score: 0.746324\nTest set score: 0.729099\n3\n124\n"
     ]
    }
   ],
   "source": [
    "#testing\n",
    "\n",
    "#prediction = classifier.predict(enzyme_x_test)\n",
    "prediction = classifier.predict(x_test)\n",
    "unique, counts = np.unique(prediction, return_counts=True)\n",
    "print(dict(zip(unique, counts)))\n",
    "\n",
    "classifierEstimation(classifier,enzyme_x_test,enzyme_y_test)\n",
    "classifierEstimation(classifier,dna_x_test, dna_y_test)\n",
    "classifierEstimation(classifier,x_test,y_test)\n",
    "\n",
    "print(\"Training set score: %f\" % classifier.score(x_train, y_train))\n",
    "print(\"Test set score: %f\" % classifier.score(x_test, y_test))\n",
    "print(classifier.n_layers_)\n",
    "print(classifier.n_iter_)"
   ]
  },
  {
   "cell_type": "code",
   "execution_count": 53,
   "metadata": {},
   "outputs": [
    {
     "name": "stdout",
     "output_type": "stream",
     "text": [
      "{0: 44187, 1: 33978}\nTest set has  6581 positives and  58169  negatives\nBest classifier score\n             precision    recall  f1-score   support\n\nnon-binding       0.90      0.57      0.70     58169\n    binding       0.11      0.46      0.17      6581\n\navg / total       0.82      0.56      0.64     64750\n\nTest set has  1678 positives and  11737  negatives\nBest classifier score\n             precision    recall  f1-score   support\n\nnon-binding       0.88      0.57      0.69     11737\n    binding       0.14      0.47      0.21      1678\n\navg / total       0.79      0.56      0.63     13415\n\nTest set has  8259 positives and  69906  negatives\nBest classifier score\n"
     ]
    },
    {
     "name": "stdout",
     "output_type": "stream",
     "text": [
      "             precision    recall  f1-score   support\n\nnon-binding       0.90      0.57      0.70     69906\n    binding       0.11      0.46      0.18      8259\n\navg / total       0.82      0.56      0.64     78165\n\nTest set score: 0.556643\n"
     ]
    }
   ],
   "source": [
    "#comparison to random\n",
    "\n",
    "#prediction = classifier.predict(enzyme_x_test)\n",
    "prediction = classifier.predict(data_rnd)\n",
    "unique, counts = np.unique(prediction, return_counts=True)\n",
    "print(dict(zip(unique, counts)))\n",
    "\n",
    "classifierEstimation(classifier,enzyme_rnd,labels_enzyme_rnd)\n",
    "classifierEstimation(classifier,dna_rnd,labels_dna_rnd)\n",
    "classifierEstimation(classifier,data_rnd,labels_rnd)\n",
    "\n",
    "print(\"Test set score: %f\" % classifier.score(data_rnd,labels_rnd))"
   ]
  },
  {
   "cell_type": "code",
   "execution_count": null,
   "metadata": {},
   "outputs": [],
   "source": [
    ""
   ]
  }
 ],
 "metadata": {
  "kernelspec": {
   "display_name": "Python 2",
   "language": "python",
   "name": "python2"
  },
  "language_info": {
   "codemirror_mode": {
    "name": "ipython",
    "version": 2.0
   },
   "file_extension": ".py",
   "mimetype": "text/x-python",
   "name": "python",
   "nbconvert_exporter": "python",
   "pygments_lexer": "ipython2",
   "version": "2.7.6"
  }
 },
 "nbformat": 4,
 "nbformat_minor": 0
}