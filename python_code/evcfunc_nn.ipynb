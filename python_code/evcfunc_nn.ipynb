{
 "cells": [
  {
   "cell_type": "code",
   "execution_count": 1,
   "metadata": {
    "collapsed": true
   },
   "outputs": [],
   "source": [
    "# imports\n",
    "\n",
    "import numpy as np\n",
    "import functions as f\n",
    "from sklearn.neural_network import MLPClassifier\n",
    "from sklearn import model_selection\n",
    "from imblearn.over_sampling import SMOTE\n",
    "import csv"
   ]
  },
  {
   "cell_type": "code",
   "execution_count": 24,
   "metadata": {},
   "outputs": [],
   "source": [
    "# general specifications\n",
    "\n",
    "path = \"data/\"\n",
    "model_path = \"combined_model/\"\n",
    "performance_path = \"performance/\"\n",
    "model = \"mm3_avg_lr\""
   ]
  },
  {
   "cell_type": "code",
   "execution_count": 25,
   "metadata": {},
   "outputs": [],
   "source": [
    "# import data\n",
    "\n",
    "positives_dna = []\n",
    "negatives_dna = []\n",
    "positives_enzyme = []\n",
    "negatives_enzyme = []\n",
    "\n",
    "with open(path+model_path+model+'_pdidb_positives.txt') as p_dna:\n",
    "    for row in csv.reader(p_dna,delimiter=\"\\t\"):\n",
    "        positives_dna.append(row)\n",
    "\n",
    "with open(path+model_path+model+'_pdidb_negatives.txt') as n_dna:\n",
    "    for row in csv.reader(n_dna,delimiter=\"\\t\"):\n",
    "        negatives_dna.append(row)\n",
    "       \n",
    "with open(path+model_path+model+'_enzyme_positives.txt') as p_enzyme:\n",
    "    for row in csv.reader(p_enzyme,delimiter=\"\\t\"):\n",
    "        positives_enzyme.append(row)\n",
    "        \n",
    "with open(path+model_path+model+'_enzyme_negatives.txt') as n_enzyme:\n",
    "    for row in csv.reader(n_enzyme,delimiter=\"\\t\"):\n",
    "        negatives_enzyme.append(row)"
   ]
  },
  {
   "cell_type": "code",
   "execution_count": 26,
   "metadata": {},
   "outputs": [],
   "source": [
    "# pre-process data\n",
    "\n",
    "tmp_dna = positives_dna + negatives_dna\n",
    "tmp_enzyme = positives_enzyme + negatives_enzyme\n",
    "\n",
    "labels_dna = [1]*len(positives_dna)+[0]*len(negatives_dna)\n",
    "labels_enzyme = [1]*len(positives_enzyme)+[0]*len(negatives_enzyme)\n",
    "\n",
    "dna = []\n",
    "enzyme = []\n",
    "\n",
    "for j in tmp_dna:\n",
    "    new_j = [float(i) for i in j]\n",
    "    dna.append(new_j)\n",
    "    \n",
    "for j in tmp_enzyme:\n",
    "    new_j = [float(i) for i in j]\n",
    "    enzyme.append(new_j)"
   ]
  },
  {
   "cell_type": "code",
   "execution_count": 27,
   "metadata": {},
   "outputs": [],
   "source": [
    "# train and test datasets\n",
    "\n",
    "dna_x_train,dna_x_test,dna_y_train,dna_y_test = model_selection.train_test_split(dna, labels_dna, test_size=0.2, random_state=6)\n",
    "enzyme_x_train,enzyme_x_test,enzyme_y_train,enzyme_y_test = model_selection.train_test_split(enzyme,labels_enzyme,test_size=0.2,random_state=6)\n",
    "\n",
    "tmp_x_train = dna_x_train + enzyme_x_train\n",
    "tmp_y_train = dna_y_train + enzyme_y_train\n",
    "x_test = dna_x_test + enzyme_x_test\n",
    "y_test = dna_y_test + enzyme_y_test\n",
    "\n",
    "x_train,x_cross,y_train,y_cross = model_selection.train_test_split(tmp_x_train,tmp_y_train,test_size=0.2,random_state=6)\n",
    "\n",
    "sm = SMOTE(random_state=42)\n",
    "x_train, y_train = sm.fit_sample(x_train,y_train)\n",
    "\n",
    "#kf = model_selection.StratifiedKFold(n_splits=5, shuffle=True, random_state=3)"
   ]
  },
  {
   "cell_type": "code",
   "execution_count": 28,
   "metadata": {},
   "outputs": [
    {
     "data": {
      "text/plain": [
       "MLPClassifier(activation='relu', alpha=0.0001, batch_size='auto', beta_1=0.9,\n       beta_2=0.999, early_stopping=False, epsilon=1e-08,\n       hidden_layer_sizes=(200,), learning_rate='constant',\n       learning_rate_init=0.001, max_iter=200, momentum=0.9,\n       nesterovs_momentum=True, power_t=0.5, random_state=1, shuffle=True,\n       solver='adam', tol=0.0001, validation_fraction=0.1, verbose=False,\n       warm_start=False)"
      ]
     },
     "execution_count": 28,
     "metadata": {},
     "output_type": "execute_result"
    }
   ],
   "source": [
    "# training the neural network\n",
    "\n",
    "#parameters = {'alpha': [0.0001], 'random_state': [1], 'hidden_layer_sizes': [(100,),(200,),(300,)]}\n",
    "#grid = model_selection.GridSearchCV(MLPClassifier(), parameters, cv=kf)\n",
    "#grid.fit(x_train,y_train)\n",
    "#classifier = grid.best_estimator_\n",
    "\n",
    "classifier = MLPClassifier(hidden_layer_sizes=(200,), alpha=0.0001, random_state=1)\n",
    "classifier.fit(x_train,y_train)"
   ]
  },
  {
   "cell_type": "code",
   "execution_count": 29,
   "metadata": {},
   "outputs": [
    {
     "name": "stdout",
     "output_type": "stream",
     "text": [
      "24\n132\n{0: 11154, 1: 1353}\n"
     ]
    }
   ],
   "source": [
    "# get information about the best classifier\n",
    "\n",
    "# print(classifier)\n",
    "# print(len(classifier.coefs_))\n",
    "print(len(classifier.coefs_[0]))\n",
    "# print(len(classifier.coefs_[1]))\n",
    "# print(classifier.n_layers_)\n",
    "print(classifier.n_iter_)\n",
    "\n",
    "unique, counts = np.unique(y_cross, return_counts=True)\n",
    "print(dict(zip(unique, counts)))"
   ]
  },
  {
   "cell_type": "code",
   "execution_count": 30,
   "metadata": {},
   "outputs": [],
   "source": [
    "# validation using cross-training\n",
    "\n",
    "performances = f.bootstrapping(classifier, x_cross, y_cross)\n",
    "# performances_dna = bootstrapping(classifier,dna_x_test,dna_y_test)\n",
    "# performances_enzyme = bootstrapping(classifier,enzyme_x_test,enzyme_y_test)\n",
    "    \n",
    "with open(path+performance_path+'performance_'+model+'.txt',\"w\") as o:\n",
    "    o.write(\"\\n\".join(performances))\n",
    "    \n",
    "# with open(path+'performance_'+model+'_pdidb.txt',\"w\") as o:\n",
    "#    o.write(\"\\n\".join(performances_dna))\n",
    "    \n",
    "# with open(path+'performance_'+model+'_enzyme.txt',\"w\") as o:\n",
    "#    o.write(\"\\n\".join(performances_enzyme))"
   ]
  },
  {
   "cell_type": "code",
   "execution_count": 50,
   "metadata": {},
   "outputs": [
    {
     "name": "stdout",
     "output_type": "stream",
     "text": [
      "Test set has  1335 positives and  11615  negatives\nBest classifier score\n             precision    recall  f1-score   support\n\nnon-binding       0.93      0.78      0.85     11615\n    binding       0.20      0.48      0.29      1335\n\navg / total       0.85      0.75      0.79     12950\n\nTest set has  363 positives and  2320  negatives\nBest classifier score\n             precision    recall  f1-score   support\n\nnon-binding       0.91      0.76      0.83      2320\n    binding       0.26      0.53      0.35       363\n\navg / total       0.82      0.73      0.76      2683\n\nTest set has  1698 positives and  13935  negatives\nBest classifier score\n             precision    recall  f1-score   support\n\nnon-binding       0.93      0.78      0.85     13935\n    binding       0.21      0.49      0.30      1698\n\navg / total       0.85      0.75      0.79     15633\n\n"
     ]
    },
    {
     "name": "stdout",
     "output_type": "stream",
     "text": [
      "Training set score: 0.672116\nTest set score: 0.746434\n3\n89\n"
     ]
    }
   ],
   "source": [
    "# testing\n",
    "\n",
    "# prediction = classifier.predict(enzyme_x_test)\n",
    "# prediction = classifier.predict(x_test)\n",
    "# unique, counts = np.unique(prediction, return_counts=True)\n",
    "# print(dict(zip(unique, counts)))\n",
    "\n",
    "f.classifier_estimation(classifier,enzyme_x_test,enzyme_y_test)\n",
    "f.classifier_estimation(classifier,dna_x_test, dna_y_test)\n",
    "f.classifier_estimation(classifier,x_test,y_test)\n",
    "\n",
    "print(\"Training set score: %f\" % classifier.score(x_train, y_train))\n",
    "print(\"Test set score: %f\" % classifier.score(x_test, y_test))\n",
    "print(classifier.n_layers_)\n",
    "print(classifier.n_iter_)"
   ]
  },
  {
   "cell_type": "code",
   "execution_count": null,
   "metadata": {},
   "outputs": [],
   "source": [
    ""
   ]
  }
 ],
 "metadata": {
  "kernelspec": {
   "display_name": "Python 2",
   "language": "python",
   "name": "python2"
  },
  "language_info": {
   "codemirror_mode": {
    "name": "ipython",
    "version": 2.0
   },
   "file_extension": ".py",
   "mimetype": "text/x-python",
   "name": "python",
   "nbconvert_exporter": "python",
   "pygments_lexer": "ipython2",
   "version": "2.7.6"
  }
 },
 "nbformat": 4,
 "nbformat_minor": 0
}