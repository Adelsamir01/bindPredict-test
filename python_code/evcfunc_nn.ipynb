{
 "cells": [
  {
   "cell_type": "code",
   "execution_count": 2,
   "metadata": {
    "collapsed": true
   },
   "outputs": [],
   "source": [
    "#imports\n",
    "import numpy as np\n",
    "from sklearn.neural_network import MLPClassifier\n",
    "from sklearn import model_selection, metrics\n",
    "from imblearn.over_sampling import SMOTE\n",
    "import csv"
   ]
  },
  {
   "cell_type": "code",
   "execution_count": 3,
   "metadata": {},
   "outputs": [],
   "source": [
    "# Util functions\n",
    "def classifierEstimation(classifier, x_test, y_test):\n",
    "    print\n",
    "    print('Test set has ', len([i for i in y_test if i is 1]), 'positives and ', len([i for i in y_test if i is 0]), ' negatives')\n",
    "    print\n",
    "    print ('Best classifier score')\n",
    "    print\n",
    "    print(metrics.classification_report(y_test, classifier.predict(x_test), target_names=['non-binding', 'binding']))"
   ]
  },
  {
   "cell_type": "code",
   "execution_count": 4,
   "metadata": {},
   "outputs": [],
   "source": [
    "#import data\n",
    "\n",
    "positives_dna = []\n",
    "negatives_dna = []\n",
    "positives_enzyme = []\n",
    "negatives_enzyme = []\n",
    "\n",
    "with open('data/minimal_model_sw_pdidb_positives.txt') as p_dna:\n",
    "    for row in csv.reader(p_dna,delimiter=\"\\t\"):\n",
    "        positives_dna.append(row)\n",
    "\n",
    "with open('data/minimal_model_sw_pdidb_negatives.txt') as n_dna:\n",
    "    for row in csv.reader(n_dna,delimiter=\"\\t\"):\n",
    "        negatives_dna.append(row)\n",
    "       \n",
    "with open('data/minimal_model_sw_enzyme_positives.txt') as p_enzyme:\n",
    "    for row in csv.reader(p_enzyme,delimiter=\"\\t\"):\n",
    "        positives_enzyme.append(row)\n",
    "        \n",
    "with open('data/minimal_model_sw_enzyme_negatives.txt') as n_enzyme:\n",
    "    for row in csv.reader(n_enzyme,delimiter=\"\\t\"):\n",
    "        negatives_enzyme.append(row)"
   ]
  },
  {
   "cell_type": "code",
   "execution_count": 5,
   "metadata": {},
   "outputs": [],
   "source": [
    "#import random data\n",
    "\n",
    "positives_dna_rnd = []\n",
    "negatives_dna_rnd = []\n",
    "positives_enzyme_rnd = []\n",
    "negatives_enzyme_rnd = []\n",
    "\n",
    "with open('data/rnd_more_minimal_model_pdidb_positives.txt') as p_dna:\n",
    "    for row in csv.reader(p_dna,delimiter=\"\\t\"):\n",
    "        positives_dna_rnd.append(row)\n",
    "\n",
    "with open('data/rnd_more_minimal_model_pdidb_negatives.txt') as n_dna:\n",
    "    for row in csv.reader(n_dna,delimiter=\"\\t\"):\n",
    "        negatives_dna_rnd.append(row)\n",
    "       \n",
    "with open('data/rnd_more_minimal_model_enzyme_positives.txt') as p_enzyme:\n",
    "    for row in csv.reader(p_enzyme,delimiter=\"\\t\"):\n",
    "        positives_enzyme_rnd.append(row)\n",
    "        \n",
    "with open('data/rnd_more_minimal_model_enzyme_negatives.txt') as n_enzyme:\n",
    "    for row in csv.reader(n_enzyme,delimiter=\"\\t\"):\n",
    "        negatives_enzyme_rnd.append(row)\n",
    "        \n",
    "tmp_dna_rnd = positives_dna_rnd + negatives_dna_rnd\n",
    "tmp_enzyme_rnd = positives_enzyme_rnd + negatives_enzyme_rnd\n",
    "\n",
    "labels_dna_rnd = [1]*len(positives_dna_rnd)+[0]*len(negatives_dna_rnd)\n",
    "labels_enzyme_rnd = [1]*len(positives_enzyme_rnd)+[0]*len(negatives_enzyme_rnd)\n",
    "\n",
    "dna_rnd = []\n",
    "enzyme_rnd = []\n",
    "\n",
    "for j in tmp_dna_rnd:\n",
    "    new_j = [float(i) for i in j]\n",
    "    dna_rnd.append(new_j)\n",
    "\n",
    "for j in tmp_enzyme_rnd:\n",
    "    new_j = [float(i) for i in j]\n",
    "    enzyme_rnd.append(new_j)\n",
    "\n",
    "data_rnd = dna_rnd + enzyme_rnd\n",
    "labels_rnd = labels_dna_rnd + labels_enzyme_rnd\n",
    "\n",
    "dna_x_train_rnd,dna_x_test_rnd,dna_y_train_rnd,dna_y_test_rnd = model_selection.train_test_split(dna_rnd,labels_dna_rnd,test_size=0.2,random_state=6)\n",
    "enzyme_x_train_rnd,enzyme_x_test_rnd,enzyme_y_train_rnd,enzyme_y_test_rnd = model_selection.train_test_split(enzyme_rnd,labels_enzyme_rnd,test_size=0.2,random_state=6)\n",
    "\n",
    "x_test_rnd = dna_x_test_rnd + enzyme_x_test_rnd\n",
    "y_test_rnd = dna_y_test_rnd + enzyme_y_test_rnd"
   ]
  },
  {
   "cell_type": "code",
   "execution_count": 6,
   "metadata": {},
   "outputs": [],
   "source": [
    "#preprocess data\n",
    "\n",
    "tmp_dna = positives_dna + negatives_dna\n",
    "tmp_enzyme = positives_enzyme + negatives_enzyme\n",
    "\n",
    "labels_dna = [1]*len(positives_dna)+[0]*len(negatives_dna)\n",
    "labels_enzyme = [1]*len(positives_enzyme)+[0]*len(negatives_enzyme)\n",
    "\n",
    "dna = []\n",
    "enzyme = []\n",
    "\n",
    "for j in tmp_dna:\n",
    "    new_j = [float(i) for i in j]\n",
    "    dna.append(new_j)\n",
    "    \n",
    "for j in tmp_enzyme:\n",
    "    new_j = [float(i) for i in j]\n",
    "    enzyme.append(new_j)"
   ]
  },
  {
   "cell_type": "code",
   "execution_count": 7,
   "metadata": {},
   "outputs": [
    {
     "name": "stderr",
     "output_type": "stream",
     "text": [
      "D:\\Program Files\\Python\\Python3.6\\lib\\site-packages\\sklearn\\utils\\validation.py:395: DeprecationWarning: Passing 1d arrays as data is deprecated in 0.17 and will raise ValueError in 0.19. Reshape your data either using X.reshape(-1, 1) if your data has a single feature or X.reshape(1, -1) if it contains a single sample.\n  DeprecationWarning)\n"
     ]
    },
    {
     "ename": "ValueError",
     "evalue": "setting an array element with a sequence.",
     "traceback": [
      "\u001b[1;31m---------------------------------------------------------------------------\u001b[0m",
      "\u001b[1;31mValueError\u001b[0m                                Traceback (most recent call last)",
      "\u001b[1;32m<ipython-input-7-3a468c9562ad>\u001b[0m in \u001b[0;36m<module>\u001b[1;34m()\u001b[0m\n\u001b[0;32m     10\u001b[0m \u001b[1;33m\u001b[0m\u001b[0m\n\u001b[0;32m     11\u001b[0m \u001b[0msm\u001b[0m \u001b[1;33m=\u001b[0m \u001b[0mSMOTE\u001b[0m\u001b[1;33m(\u001b[0m\u001b[0mrandom_state\u001b[0m\u001b[1;33m=\u001b[0m\u001b[1;36m42\u001b[0m\u001b[1;33m)\u001b[0m\u001b[1;33m\u001b[0m\u001b[0m\n\u001b[1;32m---> 12\u001b[1;33m \u001b[0mx_train\u001b[0m\u001b[1;33m,\u001b[0m \u001b[0my_train\u001b[0m \u001b[1;33m=\u001b[0m \u001b[0msm\u001b[0m\u001b[1;33m.\u001b[0m\u001b[0mfit_sample\u001b[0m\u001b[1;33m(\u001b[0m\u001b[0mx_train\u001b[0m\u001b[1;33m,\u001b[0m\u001b[0my_train\u001b[0m\u001b[1;33m)\u001b[0m\u001b[1;33m\u001b[0m\u001b[0m\n\u001b[0m\u001b[0;32m     13\u001b[0m \u001b[1;33m\u001b[0m\u001b[0m\n\u001b[0;32m     14\u001b[0m \u001b[0mprint\u001b[0m\u001b[1;33m(\u001b[0m\u001b[0mx_train\u001b[0m\u001b[1;33m)\u001b[0m\u001b[1;33m\u001b[0m\u001b[0m\n",
      "\u001b[1;32mD:\\Program Files\\Python\\Python3.6\\lib\\site-packages\\imblearn\\base.py\u001b[0m in \u001b[0;36mfit_sample\u001b[1;34m(self, X, y)\u001b[0m\n\u001b[0;32m    192\u001b[0m         \"\"\"\n\u001b[0;32m    193\u001b[0m \u001b[1;33m\u001b[0m\u001b[0m\n\u001b[1;32m--> 194\u001b[1;33m         \u001b[1;32mreturn\u001b[0m \u001b[0mself\u001b[0m\u001b[1;33m.\u001b[0m\u001b[0mfit\u001b[0m\u001b[1;33m(\u001b[0m\u001b[0mX\u001b[0m\u001b[1;33m,\u001b[0m \u001b[0my\u001b[0m\u001b[1;33m)\u001b[0m\u001b[1;33m.\u001b[0m\u001b[0msample\u001b[0m\u001b[1;33m(\u001b[0m\u001b[0mX\u001b[0m\u001b[1;33m,\u001b[0m \u001b[0my\u001b[0m\u001b[1;33m)\u001b[0m\u001b[1;33m\u001b[0m\u001b[0m\n\u001b[0m\u001b[0;32m    195\u001b[0m \u001b[1;33m\u001b[0m\u001b[0m\n\u001b[0;32m    196\u001b[0m     \u001b[1;32mdef\u001b[0m \u001b[0m_validate_ratio\u001b[0m\u001b[1;33m(\u001b[0m\u001b[0mself\u001b[0m\u001b[1;33m)\u001b[0m\u001b[1;33m:\u001b[0m\u001b[1;33m\u001b[0m\u001b[0m\n",
      "\u001b[1;32mD:\\Program Files\\Python\\Python3.6\\lib\\site-packages\\imblearn\\over_sampling\\smote.py\u001b[0m in \u001b[0;36mfit\u001b[1;34m(self, X, y)\u001b[0m\n\u001b[0;32m    356\u001b[0m         \"\"\"\n\u001b[0;32m    357\u001b[0m \u001b[1;33m\u001b[0m\u001b[0m\n\u001b[1;32m--> 358\u001b[1;33m         \u001b[0msuper\u001b[0m\u001b[1;33m(\u001b[0m\u001b[0mSMOTE\u001b[0m\u001b[1;33m,\u001b[0m \u001b[0mself\u001b[0m\u001b[1;33m)\u001b[0m\u001b[1;33m.\u001b[0m\u001b[0mfit\u001b[0m\u001b[1;33m(\u001b[0m\u001b[0mX\u001b[0m\u001b[1;33m,\u001b[0m \u001b[0my\u001b[0m\u001b[1;33m)\u001b[0m\u001b[1;33m\u001b[0m\u001b[0m\n\u001b[0m\u001b[0;32m    359\u001b[0m \u001b[1;33m\u001b[0m\u001b[0m\n\u001b[0;32m    360\u001b[0m         \u001b[0mself\u001b[0m\u001b[1;33m.\u001b[0m\u001b[0m_validate_estimator\u001b[0m\u001b[1;33m(\u001b[0m\u001b[1;33m)\u001b[0m\u001b[1;33m\u001b[0m\u001b[0m\n",
      "\u001b[1;32mD:\\Program Files\\Python\\Python3.6\\lib\\site-packages\\imblearn\\base.py\u001b[0m in \u001b[0;36mfit\u001b[1;34m(self, X, y)\u001b[0m\n\u001b[0;32m    299\u001b[0m         \"\"\"\n\u001b[0;32m    300\u001b[0m \u001b[1;33m\u001b[0m\u001b[0m\n\u001b[1;32m--> 301\u001b[1;33m         \u001b[0msuper\u001b[0m\u001b[1;33m(\u001b[0m\u001b[0mBaseBinarySampler\u001b[0m\u001b[1;33m,\u001b[0m \u001b[0mself\u001b[0m\u001b[1;33m)\u001b[0m\u001b[1;33m.\u001b[0m\u001b[0mfit\u001b[0m\u001b[1;33m(\u001b[0m\u001b[0mX\u001b[0m\u001b[1;33m,\u001b[0m \u001b[0my\u001b[0m\u001b[1;33m)\u001b[0m\u001b[1;33m\u001b[0m\u001b[0m\n\u001b[0m\u001b[0;32m    302\u001b[0m \u001b[1;33m\u001b[0m\u001b[0m\n\u001b[0;32m    303\u001b[0m         \u001b[1;31m# Check that the target type is binary\u001b[0m\u001b[1;33m\u001b[0m\u001b[1;33m\u001b[0m\u001b[0m\n",
      "\u001b[1;32mD:\\Program Files\\Python\\Python3.6\\lib\\site-packages\\imblearn\\base.py\u001b[0m in \u001b[0;36mfit\u001b[1;34m(self, X, y)\u001b[0m\n\u001b[0;32m     70\u001b[0m \u001b[1;33m\u001b[0m\u001b[0m\n\u001b[0;32m     71\u001b[0m         \u001b[1;31m# Check the consistency of X and y\u001b[0m\u001b[1;33m\u001b[0m\u001b[1;33m\u001b[0m\u001b[0m\n\u001b[1;32m---> 72\u001b[1;33m         \u001b[0mX\u001b[0m\u001b[1;33m,\u001b[0m \u001b[0my\u001b[0m \u001b[1;33m=\u001b[0m \u001b[0mcheck_X_y\u001b[0m\u001b[1;33m(\u001b[0m\u001b[0mX\u001b[0m\u001b[1;33m,\u001b[0m \u001b[0my\u001b[0m\u001b[1;33m)\u001b[0m\u001b[1;33m\u001b[0m\u001b[0m\n\u001b[0m\u001b[0;32m     73\u001b[0m \u001b[1;33m\u001b[0m\u001b[0m\n\u001b[0;32m     74\u001b[0m         \u001b[0mself\u001b[0m\u001b[1;33m.\u001b[0m\u001b[0mmin_c_\u001b[0m \u001b[1;33m=\u001b[0m \u001b[1;32mNone\u001b[0m\u001b[1;33m\u001b[0m\u001b[0m\n",
      "\u001b[1;32mD:\\Program Files\\Python\\Python3.6\\lib\\site-packages\\sklearn\\utils\\validation.py\u001b[0m in \u001b[0;36mcheck_X_y\u001b[1;34m(X, y, accept_sparse, dtype, order, copy, force_all_finite, ensure_2d, allow_nd, multi_output, ensure_min_samples, ensure_min_features, y_numeric, warn_on_dtype, estimator)\u001b[0m\n\u001b[0;32m    519\u001b[0m     X = check_array(X, accept_sparse, dtype, order, copy, force_all_finite,\n\u001b[0;32m    520\u001b[0m                     \u001b[0mensure_2d\u001b[0m\u001b[1;33m,\u001b[0m \u001b[0mallow_nd\u001b[0m\u001b[1;33m,\u001b[0m \u001b[0mensure_min_samples\u001b[0m\u001b[1;33m,\u001b[0m\u001b[1;33m\u001b[0m\u001b[0m\n\u001b[1;32m--> 521\u001b[1;33m                     ensure_min_features, warn_on_dtype, estimator)\n\u001b[0m\u001b[0;32m    522\u001b[0m     \u001b[1;32mif\u001b[0m \u001b[0mmulti_output\u001b[0m\u001b[1;33m:\u001b[0m\u001b[1;33m\u001b[0m\u001b[0m\n\u001b[0;32m    523\u001b[0m         y = check_array(y, 'csr', force_all_finite=True, ensure_2d=False,\n",
      "\u001b[1;32mD:\\Program Files\\Python\\Python3.6\\lib\\site-packages\\sklearn\\utils\\validation.py\u001b[0m in \u001b[0;36mcheck_array\u001b[1;34m(array, accept_sparse, dtype, order, copy, force_all_finite, ensure_2d, allow_nd, ensure_min_samples, ensure_min_features, warn_on_dtype, estimator)\u001b[0m\n\u001b[0;32m    400\u001b[0m         \u001b[1;31m# make sure we actually converted to numeric:\u001b[0m\u001b[1;33m\u001b[0m\u001b[1;33m\u001b[0m\u001b[0m\n\u001b[0;32m    401\u001b[0m         \u001b[1;32mif\u001b[0m \u001b[0mdtype_numeric\u001b[0m \u001b[1;32mand\u001b[0m \u001b[0marray\u001b[0m\u001b[1;33m.\u001b[0m\u001b[0mdtype\u001b[0m\u001b[1;33m.\u001b[0m\u001b[0mkind\u001b[0m \u001b[1;33m==\u001b[0m \u001b[1;34m\"O\"\u001b[0m\u001b[1;33m:\u001b[0m\u001b[1;33m\u001b[0m\u001b[0m\n\u001b[1;32m--> 402\u001b[1;33m             \u001b[0marray\u001b[0m \u001b[1;33m=\u001b[0m \u001b[0marray\u001b[0m\u001b[1;33m.\u001b[0m\u001b[0mastype\u001b[0m\u001b[1;33m(\u001b[0m\u001b[0mnp\u001b[0m\u001b[1;33m.\u001b[0m\u001b[0mfloat64\u001b[0m\u001b[1;33m)\u001b[0m\u001b[1;33m\u001b[0m\u001b[0m\n\u001b[0m\u001b[0;32m    403\u001b[0m         \u001b[1;32mif\u001b[0m \u001b[1;32mnot\u001b[0m \u001b[0mallow_nd\u001b[0m \u001b[1;32mand\u001b[0m \u001b[0marray\u001b[0m\u001b[1;33m.\u001b[0m\u001b[0mndim\u001b[0m \u001b[1;33m>=\u001b[0m \u001b[1;36m3\u001b[0m\u001b[1;33m:\u001b[0m\u001b[1;33m\u001b[0m\u001b[0m\n\u001b[0;32m    404\u001b[0m             raise ValueError(\"Found array with dim %d. %s expected <= 2.\"\n",
      "\u001b[1;31mValueError\u001b[0m: setting an array element with a sequence."
     ],
     "output_type": "error"
    }
   ],
   "source": [
    "#train and test datasets\n",
    "\n",
    "dna_x_train,dna_x_test,dna_y_train,dna_y_test = model_selection.train_test_split(dna, labels_dna, test_size=0.2, random_state=6)\n",
    "enzyme_x_train,enzyme_x_test,enzyme_y_train,enzyme_y_test = model_selection.train_test_split(enzyme,labels_enzyme,test_size=0.2,random_state=6)\n",
    "\n",
    "x_train = dna_x_train + enzyme_x_train\n",
    "y_train = dna_y_train + enzyme_y_train\n",
    "x_test = dna_x_test + enzyme_x_test\n",
    "y_test = dna_y_test + enzyme_y_test\n",
    "\n",
    "sm = SMOTE(random_state=42)\n",
    "x_train, y_train = sm.fit_sample(x_train,y_train)\n",
    "\n",
    "print(x_train)\n",
    "print(x_test)\n",
    "\n",
    "kf = model_selection.StratifiedKFold(n_splits=5, shuffle=True, random_state=3)\n",
    "parameters = {'alpha': [0.0001], 'random_state': [1]}"
   ]
  },
  {
   "cell_type": "code",
   "execution_count": 8,
   "metadata": {},
   "outputs": [
    {
     "ename": "NameError",
     "evalue": "name 'parameters' is not defined",
     "traceback": [
      "\u001b[1;31m---------------------------------------------------------------------------\u001b[0m",
      "\u001b[1;31mNameError\u001b[0m                                 Traceback (most recent call last)",
      "\u001b[1;32m<ipython-input-8-95864028e2ef>\u001b[0m in \u001b[0;36m<module>\u001b[1;34m()\u001b[0m\n\u001b[0;32m      1\u001b[0m \u001b[1;31m#training the neural network\u001b[0m\u001b[1;33m\u001b[0m\u001b[1;33m\u001b[0m\u001b[0m\n\u001b[0;32m      2\u001b[0m \u001b[1;33m\u001b[0m\u001b[0m\n\u001b[1;32m----> 3\u001b[1;33m \u001b[0mgrid\u001b[0m \u001b[1;33m=\u001b[0m \u001b[0mmodel_selection\u001b[0m\u001b[1;33m.\u001b[0m\u001b[0mGridSearchCV\u001b[0m\u001b[1;33m(\u001b[0m\u001b[0mMLPClassifier\u001b[0m\u001b[1;33m(\u001b[0m\u001b[1;33m)\u001b[0m\u001b[1;33m,\u001b[0m \u001b[0mparameters\u001b[0m\u001b[1;33m,\u001b[0m \u001b[0mcv\u001b[0m\u001b[1;33m=\u001b[0m\u001b[0mkf\u001b[0m\u001b[1;33m)\u001b[0m\u001b[1;33m\u001b[0m\u001b[0m\n\u001b[0m\u001b[0;32m      4\u001b[0m \u001b[0mgrid\u001b[0m\u001b[1;33m.\u001b[0m\u001b[0mfit\u001b[0m\u001b[1;33m(\u001b[0m\u001b[0mx_train\u001b[0m\u001b[1;33m,\u001b[0m\u001b[0my_train\u001b[0m\u001b[1;33m)\u001b[0m\u001b[1;33m\u001b[0m\u001b[0m\n\u001b[0;32m      5\u001b[0m \u001b[0mclassifier\u001b[0m \u001b[1;33m=\u001b[0m \u001b[0mgrid\u001b[0m\u001b[1;33m.\u001b[0m\u001b[0mbest_estimator_\u001b[0m\u001b[1;33m\u001b[0m\u001b[0m\n",
      "\u001b[1;31mNameError\u001b[0m: name 'parameters' is not defined"
     ],
     "output_type": "error"
    }
   ],
   "source": [
    "#training the neural network\n",
    "\n",
    "grid = model_selection.GridSearchCV(MLPClassifier(), parameters, cv=kf)\n",
    "grid.fit(x_train,y_train)\n",
    "classifier = grid.best_estimator_"
   ]
  },
  {
   "cell_type": "code",
   "execution_count": 51,
   "metadata": {},
   "outputs": [
    {
     "name": "stdout",
     "output_type": "stream",
     "text": [
      "{0: 11852, 1: 3781}\nTest set has  1335 positives and  11615  negatives\nBest classifier score\n             precision    recall  f1-score   support\n\nnon-binding       0.91      0.77      0.84     11615\n    binding       0.15      0.36      0.22      1335\n\navg / total       0.83      0.73      0.77     12950\n\nTest set has  363 positives and  2320  negatives\nBest classifier score\n             precision    recall  f1-score   support\n\nnon-binding       0.89      0.77      0.82      2320\n    binding       0.21      0.40      0.28       363\n\navg / total       0.80      0.72      0.75      2683\n\nTest set has  1698 positives and  13935  negatives\nBest classifier score\n             precision    recall  f1-score   support\n\nnon-binding       0.91      0.77      0.84     13935\n    binding       0.16      0.37      0.23      1698\n\navg / total       0.83      0.73      0.77     15633\n\n"
     ]
    },
    {
     "name": "stdout",
     "output_type": "stream",
     "text": [
      "Training set score: 0.746324\nTest set score: 0.729099\n3\n124\n"
     ]
    }
   ],
   "source": [
    "#testing\n",
    "\n",
    "#prediction = classifier.predict(enzyme_x_test)\n",
    "prediction = classifier.predict(x_test)\n",
    "unique, counts = np.unique(prediction, return_counts=True)\n",
    "print(dict(zip(unique, counts)))\n",
    "\n",
    "classifierEstimation(classifier,enzyme_x_test,enzyme_y_test)\n",
    "classifierEstimation(classifier,dna_x_test, dna_y_test)\n",
    "classifierEstimation(classifier,x_test,y_test)\n",
    "\n",
    "print(\"Training set score: %f\" % classifier.score(x_train, y_train))\n",
    "print(\"Test set score: %f\" % classifier.score(x_test, y_test))\n",
    "print(classifier.n_layers_)\n",
    "print(classifier.n_iter_)"
   ]
  },
  {
   "cell_type": "code",
   "execution_count": 53,
   "metadata": {},
   "outputs": [
    {
     "name": "stdout",
     "output_type": "stream",
     "text": [
      "{0: 44187, 1: 33978}\nTest set has  6581 positives and  58169  negatives\nBest classifier score\n             precision    recall  f1-score   support\n\nnon-binding       0.90      0.57      0.70     58169\n    binding       0.11      0.46      0.17      6581\n\navg / total       0.82      0.56      0.64     64750\n\nTest set has  1678 positives and  11737  negatives\nBest classifier score\n             precision    recall  f1-score   support\n\nnon-binding       0.88      0.57      0.69     11737\n    binding       0.14      0.47      0.21      1678\n\navg / total       0.79      0.56      0.63     13415\n\nTest set has  8259 positives and  69906  negatives\nBest classifier score\n"
     ]
    },
    {
     "name": "stdout",
     "output_type": "stream",
     "text": [
      "             precision    recall  f1-score   support\n\nnon-binding       0.90      0.57      0.70     69906\n    binding       0.11      0.46      0.18      8259\n\navg / total       0.82      0.56      0.64     78165\n\nTest set score: 0.556643\n"
     ]
    }
   ],
   "source": [
    "#comparison to random\n",
    "\n",
    "#prediction = classifier.predict(enzyme_x_test)\n",
    "prediction = classifier.predict(data_rnd)\n",
    "unique, counts = np.unique(prediction, return_counts=True)\n",
    "print(dict(zip(unique, counts)))\n",
    "\n",
    "classifierEstimation(classifier,enzyme_rnd,labels_enzyme_rnd)\n",
    "classifierEstimation(classifier,dna_rnd,labels_dna_rnd)\n",
    "classifierEstimation(classifier,data_rnd,labels_rnd)\n",
    "\n",
    "print(\"Test set score: %f\" % classifier.score(data_rnd,labels_rnd))"
   ]
  },
  {
   "cell_type": "code",
   "execution_count": null,
   "metadata": {},
   "outputs": [],
   "source": [
    ""
   ]
  }
 ],
 "metadata": {
  "kernelspec": {
   "display_name": "Python 2",
   "language": "python",
   "name": "python2"
  },
  "language_info": {
   "codemirror_mode": {
    "name": "ipython",
    "version": 2.0
   },
   "file_extension": ".py",
   "mimetype": "text/x-python",
   "name": "python",
   "nbconvert_exporter": "python",
   "pygments_lexer": "ipython2",
   "version": "2.7.6"
  }
 },
 "nbformat": 4,
 "nbformat_minor": 0
}