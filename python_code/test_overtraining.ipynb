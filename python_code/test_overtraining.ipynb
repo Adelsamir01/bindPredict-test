{
 "cells": [
  {
   "cell_type": "code",
   "execution_count": 1,
   "metadata": {
    "collapsed": true
   },
   "outputs": [],
   "source": [
    "# imports\n",
    "\n",
    "import matplotlib.pyplot as plt\n",
    "import numpy as np\n",
    "from sklearn.neural_network import MLPClassifier\n",
    "from sklearn import model_selection, metrics, utils\n",
    "from imblearn.over_sampling import SMOTE\n",
    "import csv"
   ]
  },
  {
   "cell_type": "code",
   "execution_count": 13,
   "metadata": {},
   "outputs": [],
   "source": [
    "# general specifications\n",
    "\n",
    "path = \"data/\"\n",
    "model_path = \"combined_model/\"\n",
    "model = \"mm3_5\""
   ]
  },
  {
   "cell_type": "code",
   "execution_count": 14,
   "metadata": {},
   "outputs": [],
   "source": [
    "# import data\n",
    "\n",
    "positives_dna = []\n",
    "negatives_dna = []\n",
    "positives_enzyme = []\n",
    "negatives_enzyme = []\n",
    "\n",
    "with open(path+model_path+model+'_pdidb_positives.txt') as p_dna:\n",
    "    for row in csv.reader(p_dna,delimiter=\"\\t\"):\n",
    "        positives_dna.append(row)\n",
    "\n",
    "with open(path+model_path+model+'_pdidb_negatives.txt') as n_dna:\n",
    "    for row in csv.reader(n_dna,delimiter=\"\\t\"):\n",
    "        negatives_dna.append(row)\n",
    "       \n",
    "with open(path+model_path+model+'_enzyme_positives.txt') as p_enzyme:\n",
    "    for row in csv.reader(p_enzyme,delimiter=\"\\t\"):\n",
    "        positives_enzyme.append(row)\n",
    "        \n",
    "with open(path+model_path+model+'_enzyme_negatives.txt') as n_enzyme:\n",
    "    for row in csv.reader(n_enzyme,delimiter=\"\\t\"):\n",
    "        negatives_enzyme.append(row)"
   ]
  },
  {
   "cell_type": "code",
   "execution_count": 15,
   "metadata": {},
   "outputs": [],
   "source": [
    "# pre-process data\n",
    "\n",
    "tmp_dna = positives_dna + negatives_dna\n",
    "tmp_enzyme = positives_enzyme + negatives_enzyme\n",
    "\n",
    "labels_dna = [1]*len(positives_dna)+[0]*len(negatives_dna)\n",
    "labels_enzyme = [1]*len(positives_enzyme)+[0]*len(negatives_enzyme)\n",
    "\n",
    "dna = []\n",
    "enzyme = []\n",
    "\n",
    "for j in tmp_dna:\n",
    "    new_j = [float(i) for i in j]\n",
    "    dna.append(new_j)\n",
    "    \n",
    "for j in tmp_enzyme:\n",
    "    new_j = [float(i) for i in j]\n",
    "    enzyme.append(new_j)"
   ]
  },
  {
   "cell_type": "code",
   "execution_count": 16,
   "metadata": {},
   "outputs": [],
   "source": [
    "dna_x_train,dna_x_test,dna_y_train,dna_y_test = model_selection.train_test_split(dna, labels_dna, test_size=0.2, random_state=6)\n",
    "enzyme_x_train,enzyme_x_test,enzyme_y_train,enzyme_y_test = model_selection.train_test_split(enzyme,labels_enzyme,test_size=0.2,random_state=6)\n",
    "\n",
    "x_train = dna_x_train + enzyme_x_train\n",
    "y_train = dna_y_train + enzyme_y_train\n",
    "\n",
    "sm = SMOTE(random_state=42)\n",
    "x_train, y_train = sm.fit_sample(x_train,y_train)"
   ]
  },
  {
   "cell_type": "code",
   "execution_count": 17,
   "metadata": {},
   "outputs": [],
   "source": [
    "# calculate training and validation scores\n",
    "\n",
    "param_range = ((10,),(50,),(100,),(200,),(300,))\n",
    "train_scores, test_scores = model_selection.validation_curve(\n",
    "    MLPClassifier(), x_train,y_train, param_name=\"hidden_layer_sizes\", param_range=param_range,\n",
    "    cv=2, scoring=\"accuracy\", n_jobs=1)\n",
    "train_scores_mean = np.mean(train_scores, axis=1)\n",
    "train_scores_std = np.std(train_scores, axis=1)\n",
    "test_scores_mean = np.mean(test_scores, axis=1)\n",
    "test_scores_std = np.std(test_scores, axis=1)\n",
    "\n"
   ]
  },
  {
   "cell_type": "code",
   "execution_count": 19,
   "metadata": {},
   "outputs": [],
   "source": [
    "# plot figure\n",
    "\n",
    "fig = plt.figure()\n",
    "\n",
    "plt.title(\"Validation Curve for MM3 (5)\")\n",
    "plt.xlabel(\"Hidden units\")\n",
    "plt.ylabel(\"Accuracy\")\n",
    "plt.ylim(0.6, 1.0)\n",
    "lw = 2\n",
    "plt.plot(param_range, train_scores_mean, label=\"Training score\",\n",
    "             color=\"red\", lw=lw)\n",
    "plt.plot(param_range, test_scores_mean, label=\"Cross-validation score\",\n",
    "             color=\"navy\", lw=lw)\n",
    "plt.legend(loc=\"best\")\n",
    "\n",
    "fig.savefig(\"data/plots/mm3_5_hidden_units.png\")"
   ]
  },
  {
   "cell_type": "code",
   "execution_count": null,
   "metadata": {},
   "outputs": [],
   "source": [
    ""
   ]
  }
 ],
 "metadata": {
  "kernelspec": {
   "display_name": "Python 2",
   "language": "python",
   "name": "python2"
  },
  "language_info": {
   "codemirror_mode": {
    "name": "ipython",
    "version": 2.0
   },
   "file_extension": ".py",
   "mimetype": "text/x-python",
   "name": "python",
   "nbconvert_exporter": "python",
   "pygments_lexer": "ipython2",
   "version": "2.7.6"
  }
 },
 "nbformat": 4,
 "nbformat_minor": 0
}