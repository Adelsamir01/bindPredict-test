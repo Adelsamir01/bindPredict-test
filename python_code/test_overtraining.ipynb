{
 "cells": [
  {
   "cell_type": "code",
   "execution_count": 1,
   "metadata": {
    "collapsed": true
   },
   "outputs": [],
   "source": [
    "# imports\n",
    "\n",
    "import matplotlib.pyplot as plt\n",
    "from sklearn.neural_network import MLPClassifier\n",
    "from sklearn import model_selection\n",
    "from imblearn.over_sampling import SMOTE\n",
    "import csv"
   ]
  },
  {
   "cell_type": "code",
   "execution_count": 7,
   "metadata": {},
   "outputs": [],
   "source": [
    "# general specifications\n",
    "\n",
    "path = \"data/\"\n",
    "model_path = \"combined_model/\"\n",
    "model = \"mm3_5\"\n",
    "plot_path = \"D:/Dropbox/masterthesis/thesis/plots/machine_learning/nn_analysis/\""
   ]
  },
  {
   "cell_type": "code",
   "execution_count": 3,
   "metadata": {},
   "outputs": [],
   "source": [
    "# import data\n",
    "\n",
    "positives_dna = []\n",
    "negatives_dna = []\n",
    "positives_enzyme = []\n",
    "negatives_enzyme = []\n",
    "\n",
    "with open(path+model_path+model+'_pdidb_positives.txt') as p_dna:\n",
    "    for row in csv.reader(p_dna,delimiter=\"\\t\"):\n",
    "        positives_dna.append(row)\n",
    "\n",
    "with open(path+model_path+model+'_pdidb_negatives.txt') as n_dna:\n",
    "    for row in csv.reader(n_dna,delimiter=\"\\t\"):\n",
    "        negatives_dna.append(row)\n",
    "       \n",
    "with open(path+model_path+model+'_enzyme_positives.txt') as p_enzyme:\n",
    "    for row in csv.reader(p_enzyme,delimiter=\"\\t\"):\n",
    "        positives_enzyme.append(row)\n",
    "        \n",
    "with open(path+model_path+model+'_enzyme_negatives.txt') as n_enzyme:\n",
    "    for row in csv.reader(n_enzyme,delimiter=\"\\t\"):\n",
    "        negatives_enzyme.append(row)"
   ]
  },
  {
   "cell_type": "code",
   "execution_count": 4,
   "metadata": {},
   "outputs": [],
   "source": [
    "# pre-process data\n",
    "\n",
    "tmp_dna = positives_dna + negatives_dna\n",
    "tmp_enzyme = positives_enzyme + negatives_enzyme\n",
    "\n",
    "labels_dna = [1]*len(positives_dna)+[0]*len(negatives_dna)\n",
    "labels_enzyme = [1]*len(positives_enzyme)+[0]*len(negatives_enzyme)\n",
    "\n",
    "dna = []\n",
    "enzyme = []\n",
    "\n",
    "for j in tmp_dna:\n",
    "    new_j = [float(i) for i in j]\n",
    "    dna.append(new_j)\n",
    "    \n",
    "for j in tmp_enzyme:\n",
    "    new_j = [float(i) for i in j]\n",
    "    enzyme.append(new_j)"
   ]
  },
  {
   "cell_type": "code",
   "execution_count": 5,
   "metadata": {},
   "outputs": [],
   "source": [
    "dna_x_train,dna_x_test,dna_y_train,dna_y_test = model_selection.train_test_split(dna, labels_dna, test_size=0.2, random_state=6)\n",
    "enzyme_x_train,enzyme_x_test,enzyme_y_train,enzyme_y_test = model_selection.train_test_split(enzyme,labels_enzyme,test_size=0.2,random_state=6)\n",
    "\n",
    "tmp_x_train = dna_x_train + enzyme_x_train\n",
    "tmp_y_train = dna_y_train + enzyme_y_train\n",
    "\n",
    "x_train,x_cross,y_train,y_cross = model_selection.train_test_split(tmp_x_train,tmp_y_train,test_size=0.2,random_state=6)\n",
    "\n",
    "sm = SMOTE(random_state=42)\n",
    "x_train, y_train = sm.fit_sample(x_train,y_train)"
   ]
  },
  {
   "cell_type": "code",
   "execution_count": 8,
   "metadata": {},
   "outputs": [
    {
     "name": "stdout",
     "output_type": "stream",
     "text": [
      "(10,)\n20\n"
     ]
    },
    {
     "name": "stderr",
     "output_type": "stream",
     "text": [
      "D:\\Program Files\\Python\\Python3.6\\lib\\site-packages\\sklearn\\neural_network\\multilayer_perceptron.py:563: ConvergenceWarning: Stochastic Optimizer: Maximum iterations reached and the optimization hasn't converged yet.\n  % (), ConvergenceWarning)\n"
     ]
    },
    {
     "name": "stdout",
     "output_type": "stream",
     "text": [
      "20\n40\n"
     ]
    },
    {
     "name": "stdout",
     "output_type": "stream",
     "text": [
      "40\n60\n"
     ]
    },
    {
     "name": "stdout",
     "output_type": "stream",
     "text": [
      "60\n80\n"
     ]
    },
    {
     "name": "stdout",
     "output_type": "stream",
     "text": [
      "80\n100\n"
     ]
    },
    {
     "name": "stdout",
     "output_type": "stream",
     "text": [
      "100\n120\n"
     ]
    },
    {
     "name": "stdout",
     "output_type": "stream",
     "text": [
      "120\n140\n"
     ]
    },
    {
     "name": "stdout",
     "output_type": "stream",
     "text": [
      "140\n160\n"
     ]
    },
    {
     "name": "stdout",
     "output_type": "stream",
     "text": [
      "160\n300\n"
     ]
    },
    {
     "name": "stdout",
     "output_type": "stream",
     "text": [
      "300\n(50,)\n20\n"
     ]
    },
    {
     "name": "stdout",
     "output_type": "stream",
     "text": [
      "20\n40\n"
     ]
    },
    {
     "name": "stdout",
     "output_type": "stream",
     "text": [
      "40\n60\n"
     ]
    },
    {
     "name": "stdout",
     "output_type": "stream",
     "text": [
      "60\n80\n"
     ]
    },
    {
     "name": "stdout",
     "output_type": "stream",
     "text": [
      "80\n100\n"
     ]
    },
    {
     "name": "stdout",
     "output_type": "stream",
     "text": [
      "100\n120\n"
     ]
    },
    {
     "name": "stdout",
     "output_type": "stream",
     "text": [
      "120\n140\n"
     ]
    },
    {
     "name": "stdout",
     "output_type": "stream",
     "text": [
      "140\n160\n"
     ]
    },
    {
     "name": "stdout",
     "output_type": "stream",
     "text": [
      "160\n300\n"
     ]
    },
    {
     "name": "stdout",
     "output_type": "stream",
     "text": [
      "300\n(100,)\n20\n"
     ]
    },
    {
     "name": "stdout",
     "output_type": "stream",
     "text": [
      "20\n40\n"
     ]
    },
    {
     "name": "stdout",
     "output_type": "stream",
     "text": [
      "40\n60\n"
     ]
    },
    {
     "name": "stdout",
     "output_type": "stream",
     "text": [
      "60\n80\n"
     ]
    },
    {
     "name": "stdout",
     "output_type": "stream",
     "text": [
      "80\n100\n"
     ]
    },
    {
     "name": "stdout",
     "output_type": "stream",
     "text": [
      "100\n120\n"
     ]
    },
    {
     "name": "stdout",
     "output_type": "stream",
     "text": [
      "120\n140\n"
     ]
    },
    {
     "name": "stdout",
     "output_type": "stream",
     "text": [
      "140\n160\n"
     ]
    },
    {
     "name": "stdout",
     "output_type": "stream",
     "text": [
      "160\n300\n"
     ]
    },
    {
     "name": "stdout",
     "output_type": "stream",
     "text": [
      "300\n(200,)\n20\n"
     ]
    },
    {
     "name": "stdout",
     "output_type": "stream",
     "text": [
      "20\n40\n"
     ]
    },
    {
     "name": "stdout",
     "output_type": "stream",
     "text": [
      "40\n60\n"
     ]
    },
    {
     "name": "stdout",
     "output_type": "stream",
     "text": [
      "60\n80\n"
     ]
    },
    {
     "name": "stdout",
     "output_type": "stream",
     "text": [
      "80\n100\n"
     ]
    },
    {
     "name": "stdout",
     "output_type": "stream",
     "text": [
      "100\n120\n"
     ]
    },
    {
     "name": "stdout",
     "output_type": "stream",
     "text": [
      "120\n140\n"
     ]
    },
    {
     "name": "stdout",
     "output_type": "stream",
     "text": [
      "140\n160\n"
     ]
    },
    {
     "name": "stdout",
     "output_type": "stream",
     "text": [
      "160\n300\n"
     ]
    },
    {
     "name": "stdout",
     "output_type": "stream",
     "text": [
      "300\n(300,)\n20\n"
     ]
    },
    {
     "name": "stdout",
     "output_type": "stream",
     "text": [
      "20\n40\n"
     ]
    },
    {
     "name": "stdout",
     "output_type": "stream",
     "text": [
      "40\n60\n"
     ]
    },
    {
     "name": "stdout",
     "output_type": "stream",
     "text": [
      "60\n80\n"
     ]
    },
    {
     "name": "stdout",
     "output_type": "stream",
     "text": [
      "80\n100\n"
     ]
    },
    {
     "name": "stdout",
     "output_type": "stream",
     "text": [
      "100\n120\n"
     ]
    },
    {
     "name": "stdout",
     "output_type": "stream",
     "text": [
      "120\n140\n"
     ]
    },
    {
     "name": "stdout",
     "output_type": "stream",
     "text": [
      "140\n160\n"
     ]
    },
    {
     "name": "stdout",
     "output_type": "stream",
     "text": [
      "160\n300\n"
     ]
    },
    {
     "name": "stdout",
     "output_type": "stream",
     "text": [
      "300\n(500,)\n20\n"
     ]
    },
    {
     "name": "stdout",
     "output_type": "stream",
     "text": [
      "20\n40\n"
     ]
    },
    {
     "name": "stdout",
     "output_type": "stream",
     "text": [
      "40\n60\n"
     ]
    },
    {
     "name": "stdout",
     "output_type": "stream",
     "text": [
      "60\n80\n"
     ]
    },
    {
     "name": "stdout",
     "output_type": "stream",
     "text": [
      "80\n100\n"
     ]
    },
    {
     "name": "stdout",
     "output_type": "stream",
     "text": [
      "100\n120\n"
     ]
    },
    {
     "name": "stdout",
     "output_type": "stream",
     "text": [
      "120\n140\n"
     ]
    },
    {
     "name": "stdout",
     "output_type": "stream",
     "text": [
      "140\n160\n"
     ]
    },
    {
     "name": "stdout",
     "output_type": "stream",
     "text": [
      "160\n300\n"
     ]
    },
    {
     "name": "stdout",
     "output_type": "stream",
     "text": [
      "300\n"
     ]
    }
   ],
   "source": [
    "# calculate training and validation scores\n",
    "\n",
    "hidden_layers = ((10,), (50,), (100,), (200,), (300,), (500,))\n",
    "# hidden_layers = ((10,))\n",
    "iterations = (20, 40, 60, 80, 100, 120, 140, 160, 300)\n",
    "\n",
    "for layers in hidden_layers:\n",
    "    print(layers)\n",
    "    \n",
    "    train_scores = []\n",
    "    test_scores = []\n",
    "    \n",
    "    for iter in iterations:\n",
    "        print(iter)\n",
    "        classifier = MLPClassifier(hidden_layer_sizes=layers,max_iter=iter,tol=-100)   \n",
    "        classifier.fit(x_train,y_train)\n",
    "        \n",
    "        train_score = classifier.score(x_train,y_train)\n",
    "        test_score = classifier.score(x_cross,y_cross)\n",
    "        \n",
    "        train_scores.append(train_score)\n",
    "        test_scores.append(test_score)\n",
    "        \n",
    "        # print(train_score)\n",
    "        # print(test_score)\n",
    "        \n",
    "        print(classifier.n_iter_)\n",
    "\n",
    "    # plot figure\n",
    "\n",
    "    fig = plt.figure()\n",
    "\n",
    "    plt.title(\"Validation Curve for MM3 (5) \" + str(layers))\n",
    "    plt.xlabel(\"Iterations\")\n",
    "    plt.ylabel(\"Accuracy\")\n",
    "    plt.ylim(0.6, 1.0)\n",
    "    lw = 2\n",
    "    plt.plot(iterations, train_scores, label=\"Training score\",\n",
    "             color=\"red\", lw=lw)\n",
    "    plt.plot(iterations, test_scores, label=\"Cross-validation score\",\n",
    "             color=\"navy\", lw=lw)\n",
    "    plt.legend(loc=\"best\")\n",
    "\n",
    "    fig.savefig(plot_path+\"mm3_5_\" + str(layers) + \".png\")"
   ]
  },
  {
   "cell_type": "code",
   "execution_count": null,
   "metadata": {},
   "outputs": [],
   "source": [
    ""
   ]
  }
 ],
 "metadata": {
  "kernelspec": {
   "display_name": "Python 2",
   "language": "python",
   "name": "python2"
  },
  "language_info": {
   "codemirror_mode": {
    "name": "ipython",
    "version": 2.0
   },
   "file_extension": ".py",
   "mimetype": "text/x-python",
   "name": "python",
   "nbconvert_exporter": "python",
   "pygments_lexer": "ipython2",
   "version": "2.7.6"
  }
 },
 "nbformat": 4,
 "nbformat_minor": 0
}